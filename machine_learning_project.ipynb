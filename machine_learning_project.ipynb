{
 "cells": [
  {
   "cell_type": "code",
   "execution_count": 1,
   "id": "c9dd1e0d",
   "metadata": {},
   "outputs": [
    {
     "data": {
      "text/plain": [
       "0.6057278899844155"
      ]
     },
     "execution_count": 1,
     "metadata": {},
     "output_type": "execute_result"
    }
   ],
   "source": [
    "# \"jupyter notebook\" in anaconda terminal\n",
    "# This is a script that trains a Decision Tree Classifier on a dataset of murder records \n",
    "# to predict the race of a murderer based on the race of their victim. \n",
    "import numpy as np\n",
    "import pandas as pd\n",
    "from sklearn.tree import DecisionTreeClassifier\n",
    "from sklearn.model_selection import train_test_split\n",
    "from sklearn.metrics import accuracy_score\n",
    "from sklearn.preprocessing import LabelEncoder\n",
    "import matplotlib.pyplot as plt\n",
    "\n",
    "\n",
    "#1. import data\n",
    "murder_data = pd.read_csv('database.csv', low_memory=False)\n",
    "\n",
    "#2. clean data\n",
    "murder_data.rename(columns={'Record ID':u'Record_ID','Agency Code':u'Agency_Code','Agency Name':u'Agency_Name','Agency Type':u'Agency_Type','Crime Type':u'Crime_Type',\n",
    "                   'Crime Solved':u'Crime_Solved', 'Victim Sex':u'Victim_sex', 'Victim Age':u'Victim_Age','Victim Ethnicity':u'Victim_Ethnicity','Victim Race':u'Victim_Race',\n",
    "                   'Perpetrator Age':u'Perpetrator_Age','Perpetrator Sex':'Perpetrator_Sex','Perpetrator Race':u'Perpetrator_Race','Perpetrator Ethnicity':u'Perpetrator_Ethnicity','Victim Count':u'Victim_Count',\n",
    "                  'Perpetrator Count':u'Perpetrator_Count', 'Record Source':u'Record_Source'},inplace=True)\n",
    "\n",
    "# split the data set into in- and output. in this case Victim Race and Perpetrator Race\n",
    "# races are \"White\", \"Black\", \"Unknown\", \"Asian/Pacific Islander\" and \"Native American/Alaska Native\"\n",
    "# encode races to numbers so it can be used by the machine learning algorithm\n",
    "le_victim = LabelEncoder()\n",
    "murder_data['Victim_Race']= le_victim.fit_transform(murder_data['Victim_Race'])\n",
    "#0: Asian/pac, 1: black, 2: native american/ alaska native, 3: unknown, 4: white (sorted alphabetically)\n",
    "\n",
    "le_perp = LabelEncoder()\n",
    "murder_data['Perpetrator_Race'] = le_perp.fit_transform(murder_data['Perpetrator_Race'])\n",
    "#0: Asian/pac, 1: black, 2: native american/ alaska native, 3: unknown, 4: white (sorted alphabetically)\n",
    "\n",
    "le_victim.transform(le_victim.classes_)\n",
    "le_perp.transform(le_perp.classes_)\n",
    "\n",
    "X = murder_data[['Victim_Race']]\n",
    "y = murder_data['Perpetrator_Race']\n",
    "\n",
    "#3. split data into training/test (returns a tuple)\n",
    "X_train, X_test, y_train, y_test = train_test_split(X, y, test_size=0.2)\n",
    "\n",
    "# changing the shape of y to (n_samples, )\n",
    "y_train = y_train.values.ravel()\n",
    "y_test = y_test.values.ravel()\n",
    "\n",
    "#4. create a model\n",
    "model = DecisionTreeClassifier()\n",
    "\n",
    "#5. train the model\n",
    "model.fit(X_train, y_train)\n",
    "\n",
    "#6. make predicc\n",
    "predictions = model.predict(X_test)\n",
    "\n",
    "#7. eval n improve\n",
    "score = accuracy_score(y_test, predictions)\n",
    "score\n",
    "\n",
    "\n",
    "\n",
    "\n",
    "\n",
    "\n",
    "\n"
   ]
  },
  {
   "cell_type": "code",
   "execution_count": 2,
   "id": "4cf14f97",
   "metadata": {},
   "outputs": [
    {
     "data": {
      "text/plain": [
       "4    0.490155\n",
       "1    0.474885\n",
       "3    0.013771\n",
       "0    0.013638\n",
       "2    0.007551\n",
       "Name: Perpetrator_Race, dtype: float64"
      ]
     },
     "execution_count": 2,
     "metadata": {},
     "output_type": "execute_result"
    }
   ],
   "source": [
    "murder_data[murder_data[\"Perpetrator_Sex\"]==\"Male\"].Perpetrator_Race.value_counts(normalize=True)\n",
    "\n",
    "# White 0, Black 1, Unknown 2, Asian/pac 3, Native 4"
   ]
  },
  {
   "cell_type": "code",
   "execution_count": 3,
   "id": "8bee6fb9",
   "metadata": {},
   "outputs": [
    {
     "data": {
      "text/plain": [
       "1    0.507704\n",
       "4    0.460204\n",
       "2    0.011906\n",
       "0    0.011885\n",
       "3    0.008301\n",
       "Name: Perpetrator_Race, dtype: float64"
      ]
     },
     "execution_count": 3,
     "metadata": {},
     "output_type": "execute_result"
    }
   ],
   "source": [
    "murder_data[murder_data[\"Perpetrator_Sex\"]==\"Female\"].Perpetrator_Race.value_counts(normalize=True)\n",
    "\n",
    "# White 0, Black 1, Unknown 2, Asian/pac 3, Native 4\n"
   ]
  },
  {
   "cell_type": "code",
   "execution_count": 6,
   "id": "326df0bb",
   "metadata": {},
   "outputs": [
    {
     "name": "stdout",
     "output_type": "stream",
     "text": [
      "['Native American/Alaska Native' 'White' 'Unknown' 'Black'\n",
      " 'Asian/Pacific Islander']\n",
      "['Native American/Alaska Native' 'White' 'Black' 'Unknown'\n",
      " 'Asian/Pacific Islander']\n"
     ]
    }
   ],
   "source": [
    "import pandas as pd\n",
    "\n",
    "murder_data = pd.read_csv('database.csv', low_memory=False)\n",
    "\n",
    "murder_data.rename(columns={'Record ID':u'Record_ID','Agency Code':u'Agency_Code','Agency Name':u'Agency_Name','Agency Type':u'Agency_Type','Crime Type':u'Crime_Type',\n",
    "                   'Crime Solved':u'Crime_Solved', 'Victim Sex':u'Victim_sex', 'Victim Age':u'Victim_Age','Victim Ethnicity':u'Victim_Ethnicity','Victim Race':u'Victim_Race',\n",
    "                   'Perpetrator Age':u'Perpetrator_Age','Perpetrator Sex':'Perpetrator_Sex','Perpetrator Race':u'Perpetrator_Race','Perpetrator Ethnicity':u'Perpetrator_Ethnicity','Victim Count':u'Victim_Count',\n",
    "                  'Perpetrator Count':u'Perpetrator_Count', 'Record Source':u'Record_Source'},inplace=True)\n",
    "\n",
    "murder_races = murder_data[\"Perpetrator_Race\"].unique()\n",
    "print(murder_races)\n",
    "\n",
    "victim_races = murder_data[\"Victim_Race\"].unique()\n",
    "print(victim_races)\n",
    "\n",
    "\n"
   ]
  },
  {
   "cell_type": "code",
   "execution_count": 7,
   "id": "579d6d74",
   "metadata": {},
   "outputs": [
    {
     "name": "stdout",
     "output_type": "stream",
     "text": [
      "Total number of murders involving black victims found in database: 299899\n"
     ]
    },
    {
     "data": {
      "image/png": "[encoded data removed]",
      "text/plain": [
       "<Figure size 640x480 with 1 Axes>"
      ]
     },
     "metadata": {},
     "output_type": "display_data"
    }
   ],
   "source": [
    "# total amount of black victims in murder database\n",
    "black_victims = murder_data[murder_data[\"Victim_Race\"] == \"Black\"].shape[0]\n",
    "print(\"Total number of murders involving black victims found in database:\", black_victims)\n",
    "\n",
    "# amount of white people guilty of the murder of a black individual\n",
    "white_perp_black_vic = murder_data[(murder_data[\"Perpetrator_Race\"] == \"White\") & (murder_data[\"Victim_Race\"] == \"Black\")].shape[0]\n",
    "# (\"Number of murders where the perp is white and the victim is black:\", black_perp_white_vic)\n",
    "\n",
    "# amount of black murders where the race of the perp is unknown\n",
    "unknown_perp_black_vic = murder_data[(murder_data[\"Perpetrator_Race\"] == \"Unknown\") & (murder_data[\"Victim_Race\"] == \"Black\")].shape[0]\n",
    "# (\"Number of murders where the race of the perp is unknown and the victim is black:\", unknown_perp_black_vic)\n",
    "\n",
    "# amount of black murders where the race of the perp is asian\n",
    "asian_perp_black_vic = murder_data[(murder_data[\"Perpetrator_Race\"] == \"Asian/Pacific Islander\") & (murder_data[\"Victim_Race\"] == \"Black\")].shape[0]\n",
    "# (\"Number of murders where the perp is asian/pacific and the victim is black:\", asian_perp_black_vic)\n",
    "\n",
    "# amount of black people murdered by native american\n",
    "native_perp_black_vic = murder_data[(murder_data[\"Perpetrator_Race\"] == \"Native American/Alaska Native\") & (murder_data[\"Victim_Race\"] == \"Black\")].shape[0]\n",
    "# (\"Number of murders where the perp is native american and the victim is black:\", native_perp_black_vic)\n",
    "\n",
    "# amount of black people killing black people\n",
    "black_perp_black_vic = murder_data[(murder_data[\"Perpetrator_Race\"] == \"Black\") & (murder_data[\"Victim_Race\"] == \"Black\")].shape[0]\n",
    "# (\"Number of murders where the perp is black and the victim is black:\", black_perp_black_vic)\n",
    "\n",
    "\n",
    "labels = ['White', 'Unknown', 'Asian/Pac', 'Black', 'Native American']\n",
    "values = [white_perp_black_vic, unknown_perp_black_vic, asian_perp_black_vic, black_perp_black_vic, native_perp_black_vic]\n",
    "\n",
    "# graph title and labels for axis\n",
    "plt.title('Murders of Black Victims by Perpetrator Race')\n",
    "plt.xlabel('')\n",
    "plt.ylabel('')\n",
    "\n",
    "# bar charts\n",
    "plt.bar(labels, values, color=['lightgray', 'gray', 'yellow', 'black', 'red'])\n",
    "\n",
    "# show graph\n",
    "plt.show()\n"
   ]
  },
  {
   "cell_type": "code",
   "execution_count": 8,
   "id": "a6c39612",
   "metadata": {
    "scrolled": true
   },
   "outputs": [
    {
     "data": {
      "text/plain": [
       "White                            195837\n",
       "Black                            189736\n",
       "Unknown                            5502\n",
       "Asian/Pacific Islander             5449\n",
       "Native American/Alaska Native      3017\n",
       "Name: Perpetrator_Race, dtype: int64"
      ]
     },
     "execution_count": 8,
     "metadata": {},
     "output_type": "execute_result"
    }
   ],
   "source": [
    "# number of murders in database perpetrated by men going by race\n",
    "murder_data[murder_data[\"Perpetrator_Sex\"]==\"Male\"].Perpetrator_Race.value_counts()"
   ]
  },
  {
   "cell_type": "code",
   "execution_count": 9,
   "id": "b3bd1308",
   "metadata": {},
   "outputs": [
    {
     "data": {
      "text/plain": [
       "Black                            24648\n",
       "White                            22342\n",
       "Native American/Alaska Native      578\n",
       "Asian/Pacific Islander             577\n",
       "Unknown                            403\n",
       "Name: Perpetrator_Race, dtype: int64"
      ]
     },
     "execution_count": 9,
     "metadata": {},
     "output_type": "execute_result"
    }
   ],
   "source": [
    "# number of murders in database perpetrated by women going by race\n",
    "murder_data[murder_data[\"Perpetrator_Sex\"]==\"Female\"].Perpetrator_Race.value_counts()"
   ]
  },
  {
   "cell_type": "code",
   "execution_count": null,
   "id": "14c286dd",
   "metadata": {},
   "outputs": [],
   "source": []
  }
 ],
 "metadata": {
  "kernelspec": {
   "display_name": "Python 3 (ipykernel)",
   "language": "python",
   "name": "python3"
  },
  "language_info": {
   "codemirror_mode": {
    "name": "ipython",
    "version": 3
   },
   "file_extension": ".py",
   "mimetype": "text/x-python",
   "name": "python",
   "nbconvert_exporter": "python",
   "pygments_lexer": "ipython3",
   "version": "3.9.13"
  }
 },
 "nbformat": 4,
 "nbformat_minor": 5
}
