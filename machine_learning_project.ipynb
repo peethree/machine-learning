{
 "cells": [
  {
   "cell_type": "code",
   "execution_count": 36,
   "id": "c9dd1e0d",
   "metadata": {},
   "outputs": [
    {
     "data": {
      "text/plain": [
       "0.6074351363839269"
      ]
     },
     "execution_count": 36,
     "metadata": {},
     "output_type": "execute_result"
    }
   ],
   "source": [
    "# \"jupyter notebook\" in anaconda terminal\n",
    "# This is a script that trains a Decision Tree Classifier on a dataset of murder records \n",
    "# to predict the race of a murderer based on the race of their victim. \n",
    "import numpy as np\n",
    "import pandas as pd\n",
    "from sklearn.tree import DecisionTreeClassifier\n",
    "from sklearn.model_selection import train_test_split\n",
    "from sklearn.metrics import accuracy_score\n",
    "from sklearn.preprocessing import LabelEncoder\n",
    "import matplotlib.pyplot as plt\n",
    "from sklearn.preprocessing import LabelEncoder\n",
    "\n",
    "#1. import data\n",
    "murder_data = pd.read_csv('database.csv', low_memory=False)\n",
    "\n",
    "#2. clean data\n",
    "murder_data.rename(columns={'Record ID':u'Record_ID','Agency Code':u'Agency_Code','Agency Name':u'Agency_Name','Agency Type':u'Agency_Type','Crime Type':u'Crime_Type',\n",
    "                   'Crime Solved':u'Crime_Solved', 'Victim Sex':u'Victim_sex', 'Victim Age':u'Victim_Age','Victim Ethnicity':u'Victim_Ethnicity','Victim Race':u'Victim_Race',\n",
    "                   'Perpetrator Age':u'Perpetrator_Age','Perpetrator Sex':'Perpetrator_Sex','Perpetrator Race':u'Perpetrator_Race','Perpetrator Ethnicity':u'Perpetrator_Ethnicity','Victim Count':u'Victim_Count',\n",
    "                  'Perpetrator Count':u'Perpetrator_Count', 'Record Source':u'Record_Source'},inplace=True)\n",
    "\n",
    "# split the data set into in- and output. in this case Victim Race and Perpetrator Race\n",
    "# races are \"White\", \"Black\", \"Unknown\", \"Asian/Pacific Islander\" and \"Native American/Alaska Native\"\n",
    "# encode races to numbers so it can be used by the algorithm\n",
    "# White 0, Black 1, Unknown 2, Asian/pac 3, Native 4\n",
    "le_victim = LabelEncoder()\n",
    "murder_data['Victim_Race']= le_victim.fit_transform(murder_data['Victim_Race'])\n",
    "\n",
    "le_perp = LabelEncoder()\n",
    "murder_data['Perpetrator_Race'] = le_perp.fit_transform(murder_data['Perpetrator_Race'])\n",
    "\n",
    "le_victim.transform(le_victim.classes_)\n",
    "le_perp.transform(le_perp.classes_)\n",
    "\n",
    "X = murder_data[['Victim_Race']]\n",
    "y = murder_data['Perpetrator_Race']\n",
    "\n",
    "#3. split data into training/test (returns a tuple)\n",
    "X_train, X_test, y_train, y_test = train_test_split(X, y, test_size=0.2)\n",
    "\n",
    "# changing the shape of y to (n_samples, )\n",
    "y_train = y_train.values.ravel()\n",
    "y_test = y_test.values.ravel()\n",
    "\n",
    "#4. create a model\n",
    "model = DecisionTreeClassifier()\n",
    "\n",
    "#5. train the model\n",
    "model.fit(X_train, y_train)\n",
    "\n",
    "#6. make predicc\n",
    "predictions = model.predict(X_test)\n",
    "\n",
    "#7. eval n improve\n",
    "score = accuracy_score(y_test, predictions)\n",
    "score\n",
    "\n",
    "\n",
    "\n",
    "\n",
    "\n"
   ]
  },
  {
   "cell_type": "code",
   "execution_count": 51,
   "id": "4cf14f97",
   "metadata": {},
   "outputs": [
    {
     "data": {
      "text/plain": [
       "4    0.490155\n",
       "1    0.474885\n",
       "3    0.013771\n",
       "0    0.013638\n",
       "2    0.007551\n",
       "Name: Perpetrator_Race, dtype: float64"
      ]
     },
     "execution_count": 51,
     "metadata": {},
     "output_type": "execute_result"
    }
   ],
   "source": [
    "murder_data[murder_data[\"Perpetrator_Sex\"]==\"Male\"].Perpetrator_Race.value_counts(normalize=True)\n",
    "\n",
    "# White 0, Black 1, Unknown 2, Asian/pac 3, Native 4"
   ]
  },
  {
   "cell_type": "code",
   "execution_count": 46,
   "id": "78eb6df5",
   "metadata": {},
   "outputs": [
    {
     "data": {
      "text/plain": [
       "1    0.507704\n",
       "4    0.460204\n",
       "2    0.011906\n",
       "0    0.011885\n",
       "3    0.008301\n",
       "Name: Perpetrator_Race, dtype: float64"
      ]
     },
     "execution_count": 46,
     "metadata": {},
     "output_type": "execute_result"
    }
   ],
   "source": [
    "murder_data[murder_data[\"Perpetrator_Sex\"]==\"Female\"].Perpetrator_Race.value_counts(normalize=True)\n",
    "\n",
    "# White 0, Black 1, Unknown 2, Asian/pac 3, Native 4\n"
   ]
  },
  {
   "cell_type": "code",
   "execution_count": null,
   "id": "73fe362e",
   "metadata": {},
   "outputs": [],
   "source": []
  }
 ],
 "metadata": {
  "kernelspec": {
   "display_name": "Python 3 (ipykernel)",
   "language": "python",
   "name": "python3"
  },
  "language_info": {
   "codemirror_mode": {
    "name": "ipython",
    "version": 3
   },
   "file_extension": ".py",
   "mimetype": "text/x-python",
   "name": "python",
   "nbconvert_exporter": "python",
   "pygments_lexer": "ipython3",
   "version": "3.9.13"
  }
 },
 "nbformat": 4,
 "nbformat_minor": 5
}
