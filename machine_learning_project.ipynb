{
 "cells": [
  {
   "cell_type": "code",
   "execution_count": 59,
   "id": "c9dd1e0d",
   "metadata": {},
   "outputs": [
    {
     "data": {
      "text/plain": [
       "\"this model with the current specifications has roughly 60.60% accuracy in predicting killer's race based on the victim's race\""
      ]
     },
     "execution_count": 59,
     "metadata": {},
     "output_type": "execute_result"
    }
   ],
   "source": [
    "import numpy as np\n",
    "import pandas as pd\n",
    "from sklearn.tree import DecisionTreeClassifier\n",
    "from sklearn.model_selection import train_test_split\n",
    "from sklearn.metrics import accuracy_score\n",
    "from sklearn.preprocessing import LabelEncoder\n",
    "import matplotlib.pyplot as plt\n",
    "\n",
    "\"\"\"This is a script that trains a Decision Tree Classifier on a dataset of murder records\"\"\" \n",
    "\"\"\"to predict the race of a murderer based on the race of their victim.\"\"\"\n",
    "\n",
    "# import data\n",
    "murder_data = pd.read_csv('database.csv', low_memory=False)\n",
    "\n",
    "# clean the data\n",
    "murder_data.rename(columns={\"Record ID\":\"Record_ID\",\"Agency Code\":\"Agency_Code\",\"Agency Name\":\"Agency_Name\",\"Agency Type\":\"Agency_Type\",\"Crime Type\":\"Crime_Type\",\n",
    "                   \"Crime Solved\":\"Crime_Solved\", \"Victim Sex\":\"Victim_sex\", \"Victim Age\":\"Victim_Age\",\"Victim Ethnicity\":\"Victim_Ethnicity\",\"Victim Race\":\"Victim_Race\",\n",
    "                   \"Perpetrator Age\":\"Perpetrator_Age\",\"Perpetrator Sex\":\"Perpetrator_Sex\",\"Perpetrator Race\":\"Perpetrator_Race\",\"Perpetrator Ethnicity\":\"Perpetrator_Ethnicity\",\"Victim Count\":\"Victim_Count\",\n",
    "                   \"Perpetrator Count\":\"Perpetrator_Count\", \"Record Source\":\"Record_Source\"},inplace=True)\n",
    "\n",
    "\n",
    "# split the data set into in- and output. in this case Victim Race and Perpetrator Race\n",
    "# races are \"White\", \"Black\", \"Unknown\", \"Asian/Pacific Islander\" and \"Native American/Alaska Native\"\n",
    "# encode races to integers so it can be used by the machine learning algorithm\n",
    "le_victim = LabelEncoder()\n",
    "murder_data[\"Victim_Race\"]= le_victim.fit_transform(murder_data[\"Victim_Race\"])\n",
    "\n",
    "le_perp = LabelEncoder()\n",
    "murder_data[\"Perpetrator_Race\"] = le_perp.fit_transform(murder_data[\"Perpetrator_Race\"])\n",
    "\n",
    "le_victim.transform(le_victim.classes_)\n",
    "le_perp.transform(le_perp.classes_)\n",
    "\n",
    "X = murder_data[[\"Victim_Race\"]]\n",
    "y = murder_data[\"Perpetrator_Race\"]\n",
    "\n",
    "#. split data into training/test (returns a tuple)\n",
    "X_train, X_test, y_train, y_test = train_test_split(X, y, test_size=0.2)\n",
    "\n",
    "# changing the shape of y to (n_samples, )\n",
    "y_train = y_train.values.ravel()\n",
    "y_test = y_test.values.ravel()\n",
    "\n",
    "#. create a model\n",
    "model = DecisionTreeClassifier()\n",
    "\n",
    "#. train the model\n",
    "model.fit(X_train, y_train)\n",
    "\n",
    "#. make prediction using data reserved for testing\n",
    "predictions = model.predict(X_test)\n",
    "\n",
    "#7. evaluate (and improve)\n",
    "score = accuracy_score(y_test, predictions)\n",
    "# accuracy score in percentage\n",
    "f\"this model with the current specifications has roughly {100*score:,.2f}% accuracy in predicting killer's race based on the victim's race\"\n",
    "\n"
   ]
  },
  {
   "cell_type": "code",
   "execution_count": 67,
   "id": "326df0bb",
   "metadata": {},
   "outputs": [
    {
     "name": "stdout",
     "output_type": "stream",
     "text": [
      "the unique races for both victims and perps that are encoded to '[0,1,2,3,4]' in the previous section of the notebook:\n",
      "\n",
      "['Native American/Alaska Native' 'White' 'Unknown' 'Black'\n",
      " 'Asian/Pacific Islander']\n",
      "['Native American/Alaska Native' 'White' 'Black' 'Unknown'\n",
      " 'Asian/Pacific Islander']\n"
     ]
    }
   ],
   "source": [
    "import pandas as pd\n",
    "\n",
    "murder_data = pd.read_csv(\"database.csv\", low_memory=False)\n",
    "\n",
    "murder_data.rename(columns={\"Record ID\":\"Record_ID\",\"Agency Code\":\"Agency_Code\",\"Agency Name\":\"Agency_Name\",\"Agency Type\":\"Agency_Type\",\"Crime Type\":\"Crime_Type\",\n",
    "                   \"Crime Solved\":\"Crime_Solved\", \"Victim Sex\":\"Victim_sex\", \"Victim Age\":\"Victim_Age\",\"Victim Ethnicity\":\"Victim_Ethnicity\",\"Victim Race\":\"Victim_Race\",\n",
    "                   \"Perpetrator Age\":\"Perpetrator_Age\",\"Perpetrator Sex\":\"Perpetrator_Sex\",\"Perpetrator Race\":\"Perpetrator_Race\",\"Perpetrator Ethnicity\":\"Perpetrator_Ethnicity\",\"Victim Count\":\"Victim_Count\",\n",
    "                   \"Perpetrator Count\":\"Perpetrator_Count\", \"Record Source\":\"Record_Source\"},inplace=True)\n",
    "\n",
    "print(\"the unique races for both victims and perps that are encoded to '[0,1,2,3,4]' in the previous section of the notebook:\\n\")\n",
    "murder_races = murder_data[\"Perpetrator_Race\"].unique()\n",
    "print(murder_races)\n",
    "\n",
    "victim_races = murder_data[\"Victim_Race\"].unique()\n",
    "print(victim_races)\n",
    "\n"
   ]
  },
  {
   "cell_type": "code",
   "execution_count": 68,
   "id": "579d6d74",
   "metadata": {},
   "outputs": [
    {
     "name": "stdout",
     "output_type": "stream",
     "text": [
      "Total number of murders involving black victims found in database: 299899\n"
     ]
    },
    {
     "data": {
      "image/png": "[encoded data removed]",
      "text/plain": [
       "<Figure size 640x480 with 1 Axes>"
      ]
     },
     "metadata": {},
     "output_type": "display_data"
    }
   ],
   "source": [
    "# total amount of black victims in murder database\n",
    "black_victims = murder_data[murder_data[\"Victim_Race\"] == \"Black\"].shape[0]\n",
    "print(\"Total number of murders involving black victims found in database:\", black_victims)\n",
    "\n",
    "# amount of white people guilty of the murder of a black individual\n",
    "white_perp_black_vic = murder_data[(murder_data[\"Perpetrator_Race\"] == \"White\") & (murder_data[\"Victim_Race\"] == \"Black\")].shape[0]\n",
    "# (\"Number of murders where the perp is white and the victim is black:\", black_perp_white_vic)\n",
    "\n",
    "# amount of black murders where the race of the perp is unknown\n",
    "unknown_perp_black_vic = murder_data[(murder_data[\"Perpetrator_Race\"] == \"Unknown\") & (murder_data[\"Victim_Race\"] == \"Black\")].shape[0]\n",
    "# (\"Number of murders where the race of the perp is unknown and the victim is black:\", unknown_perp_black_vic)\n",
    "\n",
    "# amount of black murders where the race of the perp is asian\n",
    "asian_perp_black_vic = murder_data[(murder_data[\"Perpetrator_Race\"] == \"Asian/Pacific Islander\") & (murder_data[\"Victim_Race\"] == \"Black\")].shape[0]\n",
    "# (\"Number of murders where the perp is asian/pacific and the victim is black:\", asian_perp_black_vic)\n",
    "\n",
    "# amount of black people murdered by native american\n",
    "native_perp_black_vic = murder_data[(murder_data[\"Perpetrator_Race\"] == \"Native American/Alaska Native\") & (murder_data[\"Victim_Race\"] == \"Black\")].shape[0]\n",
    "# (\"Number of murders where the perp is native american and the victim is black:\", native_perp_black_vic)\n",
    "\n",
    "# amount of black people killing black people\n",
    "black_perp_black_vic = murder_data[(murder_data[\"Perpetrator_Race\"] == \"Black\") & (murder_data[\"Victim_Race\"] == \"Black\")].shape[0]\n",
    "# (\"Number of murders where the perp is black and the victim is black:\", black_perp_black_vic)\n",
    "\n",
    "\n",
    "labels = [\"White\", \"Unknown\", \"Asian/Pac\", \"Black\", \"Native American\"]\n",
    "values = [white_perp_black_vic, unknown_perp_black_vic, asian_perp_black_vic, black_perp_black_vic, native_perp_black_vic]\n",
    "\n",
    "# graph title and labels for axis\n",
    "plt.title(\"Murders of Black Victims by (Perpetrator) Race\")\n",
    "plt.xlabel(\"\")\n",
    "plt.ylabel(\"\")\n",
    "\n",
    "# bar charts\n",
    "plt.bar(labels, values, color=[\"lightgray\", \"gray\", \"yellow\", \"black\", \"red\"])\n",
    "\n",
    "# show graph\n",
    "plt.show()\n"
   ]
  },
  {
   "cell_type": "code",
   "execution_count": 69,
   "id": "a6c39612",
   "metadata": {
    "scrolled": true
   },
   "outputs": [
    {
     "name": "stdout",
     "output_type": "stream",
     "text": [
      "Total number of murders committed by men in database: 399541\n"
     ]
    },
    {
     "data": {
      "text/plain": [
       "White                            195837\n",
       "Black                            189736\n",
       "Unknown                            5502\n",
       "Asian/Pacific Islander             5449\n",
       "Native American/Alaska Native      3017\n",
       "Name: Perpetrator_Race, dtype: int64"
      ]
     },
     "execution_count": 69,
     "metadata": {},
     "output_type": "execute_result"
    }
   ],
   "source": [
    "male_killer = murder_data[murder_data[\"Perpetrator_Sex\"]==\"Male\"].shape[0]\n",
    "print(\"Total number of murders committed by men in database:\", male_killer)\n",
    "\n",
    "# number of murders in database perpetrated by men going by race\n",
    "murder_data[murder_data[\"Perpetrator_Sex\"]==\"Male\"].Perpetrator_Race.value_counts()\n"
   ]
  },
  {
   "cell_type": "code",
   "execution_count": 20,
   "id": "b3bd1308",
   "metadata": {},
   "outputs": [
    {
     "name": "stdout",
     "output_type": "stream",
     "text": [
      "Total number of murders committed by women in database: 48548\n"
     ]
    },
    {
     "data": {
      "text/plain": [
       "Black                            24648\n",
       "White                            22342\n",
       "Native American/Alaska Native      578\n",
       "Asian/Pacific Islander             577\n",
       "Unknown                            403\n",
       "Name: Perpetrator_Race, dtype: int64"
      ]
     },
     "execution_count": 20,
     "metadata": {},
     "output_type": "execute_result"
    }
   ],
   "source": [
    "female_killer = murder_data[murder_data[\"Perpetrator_Sex\"]==\"Female\"].shape[0]\n",
    "print(\"Total number of murders committed by women in database:\", female_killer)\n",
    "\n",
    "# number of murders in database perpetrated by women going by race\n",
    "murder_data[murder_data[\"Perpetrator_Sex\"]==\"Female\"].Perpetrator_Race.value_counts()"
   ]
  },
  {
   "cell_type": "code",
   "execution_count": 52,
   "id": "f3127c5c",
   "metadata": {},
   "outputs": [
    {
     "name": "stdout",
     "output_type": "stream",
     "text": [
      "Total murders in database: 638454\n"
     ]
    }
   ],
   "source": [
    "# total amount of murders in murder database (rows in database)\n",
    "total_murders = murder_data.shape[0]\n",
    "print(\"Total murders in database:\", total_murders)\n"
   ]
  },
  {
   "cell_type": "code",
   "execution_count": 87,
   "id": "707ceaed",
   "metadata": {},
   "outputs": [
    {
     "name": "stdout",
     "output_type": "stream",
     "text": [
      "Amount of murders committed by black males on fellow black men: 156110\n",
      "Amount of murders committed by males on black men: 174098\n",
      "\n",
      "\tThis amounts to 89.67% of murders of black men committed by other black males\n",
      "\n",
      "Amount of murders committed by white males on fellow white men: 176459\n",
      "Amount of murders committed by males on white men: 212526\n",
      "\n",
      "\tThis amounts to 83.03% of murders of white men committed by other white males\n"
     ]
    }
   ],
   "source": [
    "male_perp_black_victims = murder_data[(murder_data[\"Perpetrator_Sex\"]==\"Male\") & (murder_data[\"Victim_Race\"]==\"Black\") & (murder_data[\"Perpetrator_Race\"]==\"Black\")].shape[0]\n",
    "print(\"Amount of murders committed by black males on fellow black men:\", male_perp_black_victims)\n",
    "\n",
    "male_black_victims = murder_data[(murder_data[\"Perpetrator_Sex\"]==\"Male\") & (murder_data[\"Victim_Race\"]==\"Black\")].shape[0]\n",
    "print(\"Amount of murders committed by males on black men:\", male_black_victims)\n",
    "\n",
    "print()\n",
    "\n",
    "percentage_black = ( male_perp_black_victims / male_black_victims) * 100\n",
    "print(f\"\\tThis amounts to {percentage_black:,.2f}% of murders of black men committed by other black males\")\n",
    "\n",
    "print()\n",
    "\n",
    "male_perp_white_victims = murder_data[(murder_data[\"Perpetrator_Sex\"]==\"Male\") & (murder_data[\"Victim_Race\"]==\"White\") & (murder_data[\"Perpetrator_Race\"]==\"White\")].shape[0]\n",
    "print(\"Amount of murders committed by white males on fellow white men:\", male_perp_white_victims)\n",
    "\n",
    "male_white_victims = murder_data[(murder_data[\"Perpetrator_Sex\"]==\"Male\") & (murder_data[\"Victim_Race\"]==\"White\")].shape[0]\n",
    "print(\"Amount of murders committed by males on white men:\", male_white_victims)\n",
    "\n",
    "print()\n",
    "\n",
    "percentage_white = ( male_perp_white_victims / male_white_victims) * 100\n",
    "print(f\"\\tThis amounts to {percentage_white:,.2f}% of murders of white men committed by other white males\")\n",
    "\n"
   ]
  },
  {
   "cell_type": "code",
   "execution_count": null,
   "id": "e65e3cd7",
   "metadata": {},
   "outputs": [],
   "source": []
  }
 ],
 "metadata": {
  "kernelspec": {
   "display_name": "Python 3 (ipykernel)",
   "language": "python",
   "name": "python3"
  },
  "language_info": {
   "codemirror_mode": {
    "name": "ipython",
    "version": 3
   },
   "file_extension": ".py",
   "mimetype": "text/x-python",
   "name": "python",
   "nbconvert_exporter": "python",
   "pygments_lexer": "ipython3",
   "version": "3.9.13"
  }
 },
 "nbformat": 4,
 "nbformat_minor": 5
}
